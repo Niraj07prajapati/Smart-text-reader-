{
 "cells": [
  {
   "cell_type": "code",
   "execution_count": 1,
   "id": "a98b2312-4d56-4c41-9d15-d602871e111b",
   "metadata": {},
   "outputs": [],
   "source": [
    "import tkinter as tk\n",
    "from tkinter import filedialog\n",
    "from PIL import Image, ImageTk\n",
    "import pyttsx3\n",
    "import datetime\n",
    "import webbrowser\n",
    "import wikipedia\n",
    "import os\n",
    "import speech_recognition as sr\n",
    "import cv2\n",
    "import pytesseract\n",
    "from sklearn.feature_extraction.text import CountVectorizer\n",
    "from sklearn.ensemble import RandomForestClassifier\n"
   ]
  },
  {
   "cell_type": "code",
   "execution_count": null,
   "id": "699bea5d-074e-414b-a928-f12c76820770",
   "metadata": {},
   "outputs": [],
   "source": [
    "\n",
    "# Set the path to the Tesseract executable\n",
    "pytesseract.pytesseract.tesseract_cmd = r'C:\\\\Program Files\\\\Tesseract-OCR\\\\tesseract.exe'\n"
   ]
  },
  {
   "cell_type": "code",
   "execution_count": null,
   "id": "55470057-4785-4529-9a5e-84196c8e5775",
   "metadata": {},
   "outputs": [],
   "source": [
    "\n",
    "# Initialize text-to-speech engine\n",
    "engine = pyttsx3.init('sapi5')\n",
    "voices = engine.getProperty('voices')\n",
    "engine.setProperty('voice', voices[1].id)\n",
    "engine.setProperty('rate', 150)\n"
   ]
  },
  {
   "cell_type": "code",
   "execution_count": null,
   "id": "4f997f5f-8145-45c6-9a06-126a0b303edc",
   "metadata": {},
   "outputs": [],
   "source": [
    "\n",
    "# Initialize speech recognizer\n",
    "recognizer = sr.Recognizer()\n",
    "microphone = sr.Microphone()\n"
   ]
  },
  {
   "cell_type": "code",
   "execution_count": null,
   "id": "da9e0a08-abf9-47eb-97c4-61f9daf57af4",
   "metadata": {},
   "outputs": [],
   "source": [
    "\n",
    "# Generate 200 sample texts\n",
    "sample_texts = [\n",
    "    \"open youtube\",\n",
    "    \"open google\",\n",
    "    \"play music\",\n",
    "    \"open gmail\",\n",
    "    \"open whatsapp\",\n",
    "    \"tell me the time\",\n",
    "    \"tell me the date\",\n",
    "    \"search Wikipedia\",\n",
    "    \"open camera\",\n",
    "    \"stop\"\n",
    "] * 20  # Repeat the list 20 times to get 200 samples\n",
    "\n",
    "# Generate labels accordingly\n",
    "labels = [i for i in range(10)] * 20  # Assuming 10 labels, repeated 20 times\n"
   ]
  }
 ],
 "metadata": {
  "kernelspec": {
   "display_name": "Python 3 (ipykernel)",
   "language": "python",
   "name": "python3"
  },
  "language_info": {
   "codemirror_mode": {
    "name": "ipython",
    "version": 3
   },
   "file_extension": ".py",
   "mimetype": "text/x-python",
   "name": "python",
   "nbconvert_exporter": "python",
   "pygments_lexer": "ipython3",
   "version": "3.11.7"
  }
 },
 "nbformat": 4,
 "nbformat_minor": 5
}
